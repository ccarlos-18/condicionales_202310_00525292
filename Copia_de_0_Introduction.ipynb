{
  "cells": [
    {
      "cell_type": "markdown",
      "metadata": {
        "id": "view-in-github",
        "colab_type": "text"
      },
      "source": [
        "<a href=\"https://colab.research.google.com/github/ccarlos-18/condicionales_202310_00525292/blob/main/Copia_de_0_Introduction.ipynb\" target=\"_parent\"><img src=\"https://colab.research.google.com/assets/colab-badge.svg\" alt=\"Open In Colab\"/></a>"
      ]
    },
    {
      "cell_type": "markdown",
      "metadata": {
        "id": "R37dA7VJtqka"
      },
      "source": [
        "## carlos aturo castellanos  \n",
        "   000525292\n",
        "   "
      ],
      "id": "R37dA7VJtqka"
    },
    {
      "cell_type": "code",
      "source": [],
      "metadata": {
        "id": "ELtP8pEf9jlq"
      },
      "id": "ELtP8pEf9jlq",
      "execution_count": null,
      "outputs": []
    },
    {
      "cell_type": "code",
      "source": [
        "# Pedir al usuario que ingrese la calificación\n",
        "calificacion = float(input(\"Ingrese la calificación: \"))\n",
        "\n",
        "# Clasificar la calificación\n",
        "if calificacion >= 4.5 and calificacion <= 5.0:\n",
        "  print(\"Excelente\")\n",
        "elif calificacion >= 4.0 and calificacion < 4.5:\n",
        "  print(\"Bueno\")\n",
        "elif calificacion >= 3.0 and calificacion < 4.0:\n",
        "  print(\"Regular\")\n",
        "elif calificacion >= 0.0 and calificacion < 3.0:\n",
        "  print(\"Malo\")\n",
        "else:\n",
        "  print(\"Calificación inválida\")"
      ],
      "metadata": {
        "colab": {
          "base_uri": "https://localhost:8080/"
        },
        "id": "qzuin5zfGsb0",
        "outputId": "89e99267-953a-4bac-9f47-d0afe6244b69"
      },
      "id": "qzuin5zfGsb0",
      "execution_count": 6,
      "outputs": [
        {
          "output_type": "stream",
          "name": "stdout",
          "text": [
            "Ingrese la calificación: 2.9\n",
            "Malo\n"
          ]
        }
      ]
    }
  ],
  "metadata": {
    "colab": {
      "provenance": [],
      "include_colab_link": true
    },
    "kernelspec": {
      "display_name": "Python 3 (ipykernel)",
      "language": "python",
      "name": "python3"
    },
    "language_info": {
      "codemirror_mode": {
        "name": "ipython",
        "version": 3
      },
      "file_extension": ".py",
      "mimetype": "text/x-python",
      "name": "python",
      "nbconvert_exporter": "python",
      "pygments_lexer": "ipython3",
      "version": "3.10.6"
    }
  },
  "nbformat": 4,
  "nbformat_minor": 5
}